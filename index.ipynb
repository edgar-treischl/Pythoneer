{
  "cells": [
    {
      "cell_type": "markdown",
      "metadata": {},
      "source": [
        "# Preface {.unnumbered}\n",
        "\n",
        "The Pythoneer book is work in progress and at a very early stage. The goal is to provide a guide for R users to transition into Python. The project is open-source and contributions are welcome. There are several reasons why it can be beneficial for R users to learn Python:\n",
        "\n",
        "- Versatility: While R is a great language for statistical analysis and data visualization, Python is a general-purpose language that can be used for a wider variety of tasks, such as web development, machine learning, and scientific computing.\n",
        "\n",
        "- Large and active community: Python has a larger and active community, which means that there are a lot of resources and support available if you run into problems or want to learn new things.\n",
        "\n",
        "- Popularity in industry: Python is widely used in industry, particularly in areas such as data science and machine learning, so learning Python can make you more competitive in the job market.\n",
        "\n",
        "- Integration with other tools: Python has many libraries and packages that allow it to integrate with other tools, such as databases, big data frameworks, and cloud computing platforms, making it a flexible and powerful tool for data analysis and computation.\n",
        "\n",
        "- Different approaches to problem-solving: R and Python have different approaches to problem-solving and data analysis, so learning both can expand your skill set and enable you to tackle a wider range of problems.\n",
        "\n",
        "\n",
        "This chapter aims to provide you with a brief overview of the book. We will discuss the motivation behind this book, the target audience, and the structure of the book. Formost, I try to outline how you can transfer your R knowledge to Python. \n",
        "\n",
        "What is my motivation to write this book? I tried to learn Python with the help of several books and classes. Coding and programming languages were not new for me, but still I failed to learn Python. I consider myself a tech-savvy without having a heavy programming background, but a lot of fun learning new things and enjoy coding. For this reason I started this book. If you want to learn Python to automate processes, apply statistical procedures from the scratch, or use Python to program games, this book will not help you in any way. However, you do wanna transfer your R knowledge, this book might be right choice. Thus I assume you have some basic knowledge of R and programming skills and there is no need to explain basic concepts such as loops, functions, or data types.\n"
      ],
      "id": "f258325a"
    },
    {
      "cell_type": "code",
      "metadata": {},
      "source": [
        "#Print with Python\n",
        "print(\"👋 World\")"
      ],
      "id": "7922a292",
      "execution_count": null,
      "outputs": []
    },
    {
      "cell_type": "markdown",
      "metadata": {},
      "source": [
        "Let be give you an example why I started this book\n",
        "\n",
        "## How (not) to calculate basic statistics {.unnumbered}\n",
        "\n",
        "Before we can do anything, we have to install Python, learn how to manage virtual environments, and we how we can install packages. As with R, you have to install and import libraries for most tasks. We will cover these steps in the next chapter. For now, we will focus on some code snippets only. Say we use the seaborn package because it provides us with some data. We can use the mpg data set as cars and fool around with it. Only if you have never seen the mpg data set, you can use the following code snippet to get an overview of the data set.\n"
      ],
      "id": "b954f829"
    },
    {
      "cell_type": "code",
      "metadata": {},
      "source": [
        "#import seaborn to get some data\n",
        "import seaborn as sns\n",
        "\n",
        "#load the mpg data set as cars\n",
        "cars = sns.load_dataset(\"mpg\") \n",
        "print(cars)"
      ],
      "id": "9c20b843",
      "execution_count": null,
      "outputs": []
    },
    {
      "cell_type": "markdown",
      "metadata": {},
      "source": [
        "Suppose a mean function is not implemented in Python. We can create our own function to calculate the mean. We need to define a function that calculates the mean of an array. First, we have to define the function with the def keyword, followed by the name of the function and the input value. The function should return the sum of the array divided by the length of the array. \n"
      ],
      "id": "fa7949c2"
    },
    {
      "cell_type": "code",
      "metadata": {},
      "source": [
        "# Define a function that calculates the mean of an array\n",
        "def mean (array): \n",
        "    n = len(array)\n",
        "    return sum(array) / n\n",
        "\n",
        "#Apply the function to the mpg column of the cars data set\n",
        "mean(cars.mpg)"
      ],
      "id": "22932bdd",
      "execution_count": null,
      "outputs": []
    },
    {
      "cell_type": "markdown",
      "metadata": {},
      "source": [
        "That’s a cool way to show us how a function works. We have to provide a name of a function and tell Python what the function does. I always learned how functions and other concepts work in much more artificial way, especially in classes courses about Python. Look how I learned how a function works in Python:\n"
      ],
      "id": "f7f4f2f2"
    },
    {
      "cell_type": "code",
      "metadata": {},
      "source": [
        "#Create a funny function\n",
        "def hello(name):\n",
        "    return (f\"Hallo, {name}! How are you?\")\n",
        "\n",
        "# Apply the funny function\n",
        "hello(\"Edgar\")"
      ],
      "id": "6cb57ace",
      "execution_count": null,
      "outputs": []
    },
    {
      "cell_type": "markdown",
      "metadata": {},
      "source": [
        "Thus, we create the hello function that returns a sentence and inserts the name of the input value. Nothing wrong about that, even calculating a mean seems a little bit more realistic to illustrate why we need such a function. Anyway, in some classes I learned how to calculate the mean, the median, and the modus. Maybe a function to calculate the variance or others measure of central tendency. You know what Pearson R is? Guess what the next code does? And I guess you will skip the code after line 2, well that’s what recommend since the code only illustrates my point. The next console shows how to calculate the correlation coefficient between two arrays and I actually copied to code from a book. \n"
      ],
      "id": "9697d6e5"
    },
    {
      "cell_type": "code",
      "metadata": {},
      "source": [
        "# Define a function that calculates the correlation coefficient\n",
        "\n",
        "import math\n",
        "def correlation(x, y):\n",
        "    n = len(x) \n",
        "    \n",
        "    # Means\n",
        "    x_mn = sum(x) / n \n",
        "    y_mn = sum(y) / n\n",
        "    \n",
        "    # Variance\n",
        "    var_x = (1 / (n-1)) * sum(map(lambda xi: (xi - x_mn) ** 2 , x)) \n",
        "    var_y = (1 / (n-1)) * sum(map(lambda yi: (yi - y_mn) ** 2 , y))\n",
        "    \n",
        "    # Std\n",
        "    std_x, std_y = math.sqrt(var_x), math.sqrt(var_y)\n",
        "    \n",
        "    # Covariance\n",
        "    xy_var = map(lambda xi, yi: (xi - x_mn) * (yi - y_mn), x, y) \n",
        "    cov = (1 / (n-1)) * sum(xy_var)\n",
        "    \n",
        "    # Pearson's R\n",
        "    r = cov / (std_x * std_y) \n",
        "    return float(f\"{r:.3f}\")\n",
        "\n",
        "# Some data\n",
        "size = [20, 15, 40, 25, 35]\n",
        "cost = [300, 400, 600, 700, 666]\n",
        "\n",
        "print(correlation(size, cost))"
      ],
      "id": "e6482f76",
      "execution_count": null,
      "outputs": []
    },
    {
      "cell_type": "markdown",
      "metadata": {},
      "source": [
        "Please, use numpy to get the scientific toolkit and pandas for tabular processing and the presentation of data. The word numpy stands for numerical Python and is a package that provides us with a lot of functions to work with arrays. The pandas package is a data manipulation and analysis library that provides us with data structures and functions to manipulate data. We can use the numpy package to calculate the correlation coefficient between two arrays. The numpy package provides us with the corrcoef function that takes two arrays as input and returns the correlation coefficient. \n"
      ],
      "id": "65daae0f"
    },
    {
      "cell_type": "code",
      "metadata": {},
      "source": [
        "# corrcoef function from numpy (short: np): \n",
        "import numpy as np\n",
        "np.corrcoef(size, cost)"
      ],
      "id": "76c89398",
      "execution_count": null,
      "outputs": []
    },
    {
      "cell_type": "markdown",
      "metadata": {},
      "source": [
        "The pandas package provides us with the describe function that returns an overview of the data. We can use the mean and std functions to calculate the mean and standard deviation of the data. \n"
      ],
      "id": "41fd09fb"
    },
    {
      "cell_type": "code",
      "metadata": {},
      "source": [
        "# describe function from pandas (short: pd)\n",
        "import pandas as pd\n",
        "\n",
        "# describe cars\n",
        "cars.describe()"
      ],
      "id": "8775bd5a",
      "execution_count": null,
      "outputs": []
    },
    {
      "cell_type": "markdown",
      "metadata": {},
      "source": [
        "We have to append the describe() function to the saved cars data in order to get an overview of the central tendency measures. You can do the same with all other functions that calculate other measures, such as the mean or standard deviance:\n"
      ],
      "id": "f0fc82f1"
    },
    {
      "cell_type": "code",
      "metadata": {},
      "source": [
        "#append the mean and std function to the cars data set\n",
        "cars.mean()\n",
        "cars.std()"
      ],
      "id": "76e880c9",
      "execution_count": null,
      "outputs": []
    },
    {
      "cell_type": "markdown",
      "metadata": {},
      "source": [
        "And we should at least look at the scatter plot since we talk about correlations. The matplotlib provides a lot of different graphs for us. And in case you are an R user, you can even use the ggplot2 style, just to let you show some possibilities. But of course, we have to think more systematically how we can reach our goal in the next chapter.\n"
      ],
      "id": "d30cba61"
    },
    {
      "cell_type": "code",
      "metadata": {},
      "source": [
        "#scatter plot example\n",
        "import matplotlib\n",
        "import matplotlib.pyplot as plt\n",
        "matplotlib.style.use('ggplot')\n",
        "\n",
        "plt.scatter(cars.mpg, cars.horsepower)"
      ],
      "id": "c138b66f",
      "execution_count": null,
      "outputs": []
    },
    {
      "cell_type": "markdown",
      "metadata": {},
      "source": [
        "### Summary{-}\n",
        "\n",
        "This chapter provided you with a brief overview of the book. We discussed the motivation behind this book, the target audience, and the structure of the book. We also outlined how you can transfer your R knowledge to Python. In the next chapter, we will discuss how to install Python, manage virtual environments, and install packages. \n"
      ],
      "id": "1e27b155"
    }
  ],
  "metadata": {
    "kernelspec": {
      "display_name": "Python 3",
      "language": "python",
      "name": "python3"
    }
  },
  "nbformat": 4,
  "nbformat_minor": 5
}