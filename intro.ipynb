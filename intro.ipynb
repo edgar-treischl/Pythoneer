{
  "cells": [
    {
      "cell_type": "markdown",
      "metadata": {},
      "source": [
        "```{r setup, include=FALSE}\n",
        "reticulate::use_python(\"/Users/edgar/Library/r-miniconda-arm64/envs/r-reticulate/bin/python\")\n",
        "\n",
        "knitr::opts_chunk$set(\n",
        "  #fig.width = 6,\n",
        "  #fig.height = 4,\n",
        "  #fig.path = \"images/\",\n",
        "  echo = TRUE,\n",
        "  warning = FALSE,\n",
        "  message = FALSE,\n",
        "  eval = TRUE,\n",
        "  comment = \"#>\"\n",
        ")\n",
        "\n",
        "```\n",
        "\n",
        "\n",
        "# Introduction\n",
        "\n",
        "I tried to learn Python several times. Once I had a very peculiar class in which we should learn Python for processing natural language. Well, it was more about text mining than applying Python. I tried to learn Python with the help of several books which introduced all the ins and outs of Python. Before I started to learn Python the first time, I fluently spoke several other statistics software languages like R or Stata. I had basic skills in other languages like HTML, CSS, JavaScript. I wrote my PhD with LaTeX. Coding and programming languages were not new for me, but still I failed to learn Python.\n",
        "\n",
        "It is really a shame, since I consider myself a tech-savvy without having the heavy programming background, but with a lot of fun learning new things and enjoy coding. Well, at least, if we get some results. For this reason I started this website. I was sick of reading books about Python without having the impression that I learn what I should learn to improve my skills. This impression could also be due to my educational background. I know what a function is, what a loop does, and have some background in statistics, even though the latter is limited since I am home in the social sciences.\n",
        "\n",
        "Anyway, this website is the result of reading many books that could not explain what I was seeking. If you want to learn Python to automate processes, learn some statistical procedures from the scratch, or use Python to program some games, this website will not help you in any way. However, you do wanna transfer your knowledge from other languages like R, if you are familiar with multivariate (non-) linear regression techniques or do you have background in empirical social science, than this website might help you transfer your knowledge to Python. Let be give you an example why I started this website.\n",
        "\n",
        "## How (not) to calculate some basic statistics in Python\n",
        "\n",
        "The last Python book I read, introduced probably over a hundred pages about the different data structure, and of course, we need to know that to handle Python. I certainly don’t argue about this point, but instead of providing me meaningful examples to illustrate this point, I am reading about about artificial examples that not even work when I copied the code and run it in my own console. Well, shit happens, don’t you think? I really started to get the creep as I reached a statistics section. Let’s see what I learned from this chapter.\n",
        "\n",
        "In Python, you have to import the according libraries and install first, in case you work with a library the very first time. We will cover these points later, for the moment it is enough to look at the Python code and output. So, I import the seaborn package in order to have some data at hand. The `seaborn.get_dataset_names()` function returns all available data sets.\n"
      ],
      "id": "7cefb7b6"
    },
    {
      "cell_type": "code",
      "metadata": {},
      "source": [
        "#import seaborn to get some data\n",
        "import seaborn as sns\n",
        "sns.get_dataset_names()"
      ],
      "id": "edc8528c",
      "execution_count": null,
      "outputs": []
    },
    {
      "cell_type": "markdown",
      "metadata": {},
      "source": [
        " We can save the mpg data under the name cars and use the print function to examine the data.\n"
      ],
      "id": "e25e1a53"
    },
    {
      "cell_type": "code",
      "metadata": {},
      "source": [
        "#use the mpg data set as cars\n",
        "cars = sns.load_dataset(\"mpg\") \n",
        "print(cars)"
      ],
      "id": "6e683ef9",
      "execution_count": null,
      "outputs": []
    },
    {
      "cell_type": "markdown",
      "metadata": {},
      "source": [
        "So, what did I learn in the chapter? Well, how can we calculate an mean with Python? Shouldn’t be that though. I know how to calculate a mean by hand since my early days of school and how it is done in a statistic software. The authors offered me the following solution:\n"
      ],
      "id": "c85932cd"
    },
    {
      "cell_type": "code",
      "metadata": {},
      "source": [
        "def mean (array): \n",
        "    n = len(array)\n",
        "    return sum(array) / n\n",
        "\n",
        "mean(cars.mpg)"
      ],
      "id": "e3924b10",
      "execution_count": null,
      "outputs": []
    },
    {
      "cell_type": "markdown",
      "metadata": {},
      "source": [
        "In the code snippet we define the function mean to create a mean, within this function we define n as the length(len) of the array and the functions returns a value, which divides the sum of the array by the length n. Fine. That’s exactly a cool way to show us how a functions works. We have to provide a name of a function, tell Python what the function should do, in this case with an array of numbers.\n",
        "\n",
        "In my experience, I always learned how functions and other concepts work in much more artificial way. Look how I learned how a function  works in Python:\n"
      ],
      "id": "4e836b20"
    },
    {
      "cell_type": "code",
      "metadata": {},
      "source": [
        "#Create your own function\n",
        "def hello(name):\n",
        "    return (f\"Hallo, {name}! How are you?\")\n",
        "\n",
        "# Call the function and give value for the input name\n",
        "hello(\"Edgar\")"
      ],
      "id": "0eebf29c",
      "execution_count": null,
      "outputs": []
    },
    {
      "cell_type": "markdown",
      "metadata": {},
      "source": [
        "Thus, we create the hello function that returns a sentence and inserts the name of the input value. Nothing wrong about that, even though calculating a mean seems a little bit more realistic to illustrate why we need such a function.\n",
        "\n",
        "Anyway, in the next steps the author gives us a function for the mean, a function for the median, a function for the modus, a function to calculate the variance and, I am dead serious, other functions for others measure of central tendency. Come on, this guy can’t be serious, we should learn how this works in practice. Use NumPy to get the scientific toolkit and pandas for tabular processing and the presentation of data. The latter comes with a lot of functions we can use them in order to calculate basic statistics and more advanced stuff. Use the describe function to get an overview about the data. Let’s see how it works.\n"
      ],
      "id": "eb4796f0"
    },
    {
      "cell_type": "code",
      "metadata": {},
      "source": [
        "import numpy as np\n",
        "import pandas as pd\n",
        "\n",
        "cars.describe()"
      ],
      "id": "29530064",
      "execution_count": null,
      "outputs": []
    },
    {
      "cell_type": "markdown",
      "metadata": {},
      "source": [
        "So, we have to append the describe() function to the saved cars data in order to get an overview of the central tendency measures. You can do the same with all other functions that calculate other measures, such as the mean or standard deviance:\n"
      ],
      "id": "d4705d16"
    },
    {
      "cell_type": "code",
      "metadata": {},
      "source": [
        "cars.mean()\n",
        "cars.std()"
      ],
      "id": "8f0dd196",
      "execution_count": null,
      "outputs": []
    },
    {
      "cell_type": "markdown",
      "metadata": {},
      "source": [
        "So, what you do think? Shall we learn how to define our own function to calculate the mean or choose the easy way and let a package calculate the “hard” stuff for us. I would say both. We learned on this entry how to write an own function by solving a real-world problem. In case we didn’t know how to calculate a mean in Python we could use a function and I provided you on purpose with a second example to show you how many others explain a function. However, after learning what a function is, we need to know how we could work and spent our time more efficiently.\n",
        "\n",
        "This point becomes bothersome if we spent too much of our time with things that have a simple solution. For instance, guess what the next code does. And I guess you will skip the code after line 2, well that’s at least what recommend if you know what a correlation is.\n"
      ],
      "id": "6772da95"
    },
    {
      "cell_type": "code",
      "metadata": {},
      "source": [
        "import math\n",
        "def correlation(x, y):\n",
        "    n = len(x) \n",
        "    \n",
        "    # Means\n",
        "    x_mn = sum(x) / n \n",
        "    y_mn = sum(y) / n\n",
        "    \n",
        "    # Variance\n",
        "    var_x = (1 / (n-1)) * sum(map(lambda xi: (xi - x_mn) ** 2 , x)) \n",
        "    var_y = (1 / (n-1)) * sum(map(lambda yi: (yi - y_mn) ** 2 , y))\n",
        "    \n",
        "    # Std\n",
        "    std_x, std_y = math.sqrt(var_x), math.sqrt(var_y)\n",
        "    \n",
        "    # Covariance\n",
        "    xy_var = map(lambda xi, yi: (xi - x_mn) * (yi - y_mn), x, y) \n",
        "    cov = (1 / (n-1)) * sum(xy_var)\n",
        "    \n",
        "    # Pearson's R\n",
        "    r = cov / (std_x * std_y) \n",
        "    return float(f\"{r:.3f}\")\n",
        "\n",
        "# Some data\n",
        "size = [20, 15, 40, 25, 35]\n",
        "cost = [300, 400, 600, 700, 666]\n",
        "\n",
        "print(correlation(size, cost))"
      ],
      "id": "8564d7c1",
      "execution_count": null,
      "outputs": []
    },
    {
      "cell_type": "markdown",
      "metadata": {},
      "source": [
        "It’s the “devil’s code”! Of course, I am just kidding, but please don’t get me wrong. I think it is very useful to see how a correlation coefficients is calculated. You should do it at least once per hand if you learn the concept for the first time. But in my case I don’t have to learn what a correlation is. Let’s learn how Python works, but in an efficient way:\n"
      ],
      "id": "93ba616d"
    },
    {
      "cell_type": "code",
      "metadata": {},
      "source": [
        "np.corrcoef(size, cost)"
      ],
      "id": "0467d887",
      "execution_count": null,
      "outputs": []
    },
    {
      "cell_type": "markdown",
      "metadata": {},
      "source": [
        "And we should at least look at the scatter plot in case we talk about correlations. The matplotlib provides a lot of different graphs for us.\n"
      ],
      "id": "fdf7a043"
    },
    {
      "cell_type": "code",
      "metadata": {},
      "source": [
        "import matplotlib\n",
        "import matplotlib.pyplot as plt\n",
        "matplotlib.style.use('ggplot')\n",
        "\n",
        "plt.scatter(cars.mpg, cars.horsepower)"
      ],
      "id": "767d4c0f",
      "execution_count": null,
      "outputs": []
    },
    {
      "cell_type": "markdown",
      "metadata": {},
      "source": [
        "And in case you are an R user, you can even use the ggplot2 style, just to let you show some possibilities. But of course, we have to think more systematically how we can reach our goal in the next chapter.\n"
      ],
      "id": "48ebd623"
    }
  ],
  "metadata": {
    "kernelspec": {
      "name": "python3",
      "language": "python",
      "display_name": "Python 3 (ipykernel)"
    }
  },
  "nbformat": 4,
  "nbformat_minor": 5
}